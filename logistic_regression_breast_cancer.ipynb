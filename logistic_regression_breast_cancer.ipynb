{
 "cells": [
  {
   "cell_type": "code",
   "execution_count": 26,
   "id": "529ab468-58f6-49c0-a09b-0d95f8389cd6",
   "metadata": {},
   "outputs": [
    {
     "name": "stdout",
     "output_type": "stream",
     "text": [
      "All libraries imported successfully!\n"
     ]
    }
   ],
   "source": [
    "#import necessary librarys to work with\n",
    "import sklearn\n",
    "import pandas as pd\n",
    "import numpy as np\n",
    "import matplotlib.pyplot as plt\n",
    "import seaborn as sns\n",
    "\n",
    "from sklearn.datasets import load_breast_cancer\n",
    "from sklearn.preprocessing import StandardScaler\n",
    "from sklearn.model_selection import train_test_split\n",
    "from sklearn.linear_model import LogisticRegression\n",
    "\n",
    "print(\"All libraries imported successfully!\")"
   ]
  },
  {
   "cell_type": "markdown",
   "id": "1f3142be-1e48-4c67-94e6-98ecf0df03c6",
   "metadata": {},
   "source": [
    "# Logistic Regression: Breast Cancer Classification\n",
    "This project uses Scikit-learn's Logistic Regression to classify breast tumors as malignant or benign using the UCI Breast Cancer Wisconsin Dataset."
   ]
  },
  {
   "cell_type": "markdown",
   "id": "007d63c5-2ee9-4793-b5d5-06e834a6926a",
   "metadata": {},
   "source": [
    "## Data Loading and Exploration\n",
    "Load the UCI Breast Cancer Wisconsin Dataset and inspect its structure to understand the features and target variable."
   ]
  },
  {
   "cell_type": "code",
   "execution_count": 27,
   "id": "3fa795b0-a5a3-4bdf-8816-5d99f436fbc5",
   "metadata": {
    "jupyter": {
     "source_hidden": true
    }
   },
   "outputs": [
    {
     "name": "stdout",
     "output_type": "stream",
     "text": [
      "Dataset Shape: (569, 30)\n",
      "\n",
      "Feature Names:\n",
      " ['mean radius', 'mean texture', 'mean perimeter', 'mean area', 'mean smoothness', 'mean compactness', 'mean concavity', 'mean concave points', 'mean symmetry', 'mean fractal dimension', 'radius error', 'texture error', 'perimeter error', 'area error', 'smoothness error', 'compactness error', 'concavity error', 'concave points error', 'symmetry error', 'fractal dimension error', 'worst radius', 'worst texture', 'worst perimeter', 'worst area', 'worst smoothness', 'worst compactness', 'worst concavity', 'worst concave points', 'worst symmetry', 'worst fractal dimension']\n",
      "\n",
      "Target Distribution:\n",
      " target\n",
      "1    357\n",
      "0    212\n",
      "Name: count, dtype: int64\n",
      "\n",
      "First 5 Rows of Features:\n",
      "    mean radius  mean texture  mean perimeter  mean area  mean smoothness  \\\n",
      "0        17.99         10.38          122.80     1001.0          0.11840   \n",
      "1        20.57         17.77          132.90     1326.0          0.08474   \n",
      "2        19.69         21.25          130.00     1203.0          0.10960   \n",
      "3        11.42         20.38           77.58      386.1          0.14250   \n",
      "4        20.29         14.34          135.10     1297.0          0.10030   \n",
      "\n",
      "   mean compactness  mean concavity  mean concave points  mean symmetry  \\\n",
      "0           0.27760          0.3001              0.14710         0.2419   \n",
      "1           0.07864          0.0869              0.07017         0.1812   \n",
      "2           0.15990          0.1974              0.12790         0.2069   \n",
      "3           0.28390          0.2414              0.10520         0.2597   \n",
      "4           0.13280          0.1980              0.10430         0.1809   \n",
      "\n",
      "   mean fractal dimension  ...  worst radius  worst texture  worst perimeter  \\\n",
      "0                 0.07871  ...         25.38          17.33           184.60   \n",
      "1                 0.05667  ...         24.99          23.41           158.80   \n",
      "2                 0.05999  ...         23.57          25.53           152.50   \n",
      "3                 0.09744  ...         14.91          26.50            98.87   \n",
      "4                 0.05883  ...         22.54          16.67           152.20   \n",
      "\n",
      "   worst area  worst smoothness  worst compactness  worst concavity  \\\n",
      "0      2019.0            0.1622             0.6656           0.7119   \n",
      "1      1956.0            0.1238             0.1866           0.2416   \n",
      "2      1709.0            0.1444             0.4245           0.4504   \n",
      "3       567.7            0.2098             0.8663           0.6869   \n",
      "4      1575.0            0.1374             0.2050           0.4000   \n",
      "\n",
      "   worst concave points  worst symmetry  worst fractal dimension  \n",
      "0                0.2654          0.4601                  0.11890  \n",
      "1                0.1860          0.2750                  0.08902  \n",
      "2                0.2430          0.3613                  0.08758  \n",
      "3                0.2575          0.6638                  0.17300  \n",
      "4                0.1625          0.2364                  0.07678  \n",
      "\n",
      "[5 rows x 30 columns]\n"
     ]
    }
   ],
   "source": [
    "# Load dataset\n",
    "data = load_breast_cancer()\n",
    "X = pd.DataFrame(data.data, columns=data.feature_names)\n",
    "y = pd.Series(data.target, name='target')\n",
    "\n",
    "# Display basic information\n",
    "print(\"Dataset Shape:\", X.shape)\n",
    "print(\"\\nFeature Names:\\n\", X.columns.tolist())\n",
    "print(\"\\nTarget Distribution:\\n\", y.value_counts())\n",
    "print(\"\\nFirst 5 Rows of Features:\\n\", X.head())"
   ]
  },
  {
   "cell_type": "markdown",
   "id": "0240aa24-45c8-477b-be78-dd025f158bd3",
   "metadata": {},
   "source": [
    "## Data Preprocessing\n",
    "Standardize the numerical features using StandardScaler to ensure all features contribute equally to the Logistic Regression model."
   ]
  },
  {
   "cell_type": "code",
   "execution_count": 29,
   "id": "051b8516-6fad-486a-8c1c-add122606bf1",
   "metadata": {
    "jupyter": {
     "source_hidden": true
    }
   },
   "outputs": [
    {
     "name": "stdout",
     "output_type": "stream",
     "text": [
      "Training Features Shape: (455, 30)\n",
      "Testing Features Shape: (114, 30)\n",
      "Training Target Shape: (455,)\n",
      "Testing Target Shape: (114,)\n"
     ]
    }
   ],
   "source": [
    "# Initialize scaler\n",
    "scaler = StandardScaler()\n",
    "\n",
    "# Scale features\n",
    "X_scaled = scaler.fit_transform(X)\n",
    "X_scaled = pd.DataFrame(X_scaled, columns=X.columns)  # Convert back to DataFrame\n",
    "\n",
    "# Split data into training and testing sets (80% train, 20% test)\n",
    "X_train, X_test, y_train, y_test = train_test_split(X_scaled, y, test_size=0.2, random_state=42, stratify=y)\n",
    "\n",
    "# Verify shapes\n",
    "print(\"Training Features Shape:\", X_train.shape)\n",
    "print(\"Testing Features Shape:\", X_test.shape)\n",
    "print(\"Training Target Shape:\", y_train.shape)\n",
    "print(\"Testing Target Shape:\", y_test.shape)"
   ]
  },
  {
   "cell_type": "markdown",
   "id": "7b9ea426-6a5b-48b8-83bd-5e3b801962bc",
   "metadata": {},
   "source": [
    "## Initial Visualization\n",
    "Visualize the distribution of key features for malignant and benign classes to explore their predictive power."
   ]
  },
  {
   "cell_type": "code",
   "execution_count": 30,
   "id": "83753b0c-f383-4bd8-9098-f1b12ceea6bd",
   "metadata": {
    "jupyter": {
     "source_hidden": true
    }
   },
   "outputs": [
    {
     "data": {
      "image/png": "[encoded data removed]",
      "text/plain": [
       "<Figure size 1200x500 with 2 Axes>"
      ]
     },
     "metadata": {},
     "output_type": "display_data"
    }
   ],
   "source": [
    "# Combine features and target for visualization\n",
    "data_viz = X_scaled.copy()\n",
    "data_viz['target'] = y.map({0: 'Malignant', 1: 'Benign'})\n",
    "\n",
    "# Plot histograms for mean radius and mean texture\n",
    "plt.figure(figsize=(12, 5))\n",
    "\n",
    "plt.subplot(1, 2, 1)\n",
    "sns.histplot(data=data_viz, x='mean radius', hue='target', multiple='stack', bins=30)\n",
    "plt.title('Mean Radius Distribution by Class')\n",
    "\n",
    "plt.subplot(1, 2, 2)\n",
    "sns.histplot(data=data_viz, x='mean texture', hue='target', multiple='stack', bins=30)\n",
    "plt.title('Mean Texture Distribution by Class')\n",
    "\n",
    "plt.tight_layout()\n",
    "plt.show()"
   ]
  },
  {
   "cell_type": "markdown",
   "id": "504946db-02bc-4e07-8947-1939ca0ea6c0",
   "metadata": {},
   "source": [
    "## Model Training\n",
    "Train a Logistic Regression model on the training data and predict classes for the test set."
   ]
  },
  {
   "cell_type": "code",
   "execution_count": 31,
   "id": "2860ba5e-819e-40a4-a08e-43fb6ce7f2a0",
   "metadata": {
    "jupyter": {
     "source_hidden": true
    }
   },
   "outputs": [
    {
     "name": "stdout",
     "output_type": "stream",
     "text": [
      "Sample Test Predictions (first 10): [0 1 0 1 0 1 1 0 0 0]\n",
      "Actual Test Labels (first 10): [0 1 0 1 0 1 1 0 0 0]\n"
     ]
    }
   ],
   "source": [
    "# Initialize Logistic Regression model\n",
    "model = LogisticRegression(random_state=42)\n",
    "\n",
    "# Train the model\n",
    "model.fit(X_train, y_train)\n",
    "\n",
    "# Make predictions on the test set\n",
    "y_pred = model.predict(X_test)\n",
    "\n",
    "# Print sample predictions\n",
    "print(\"Sample Test Predictions (first 10):\", y_pred[:10])\n",
    "print(\"Actual Test Labels (first 10):\", y_test.values[:10])"
   ]
  },
  {
   "cell_type": "code",
   "execution_count": null,
   "id": "8a175f34-3c34-4030-8929-c7a81c8389f4",
   "metadata": {},
   "outputs": [],
   "source": []
  }
 ],
 "metadata": {
  "kernelspec": {
   "display_name": "Python 3 (ipykernel)",
   "language": "python",
   "name": "python3"
  },
  "language_info": {
   "codemirror_mode": {
    "name": "ipython",
    "version": 3
   },
   "file_extension": ".py",
   "mimetype": "text/x-python",
   "name": "python",
   "nbconvert_exporter": "python",
   "pygments_lexer": "ipython3",
   "version": "3.12.1"
  }
 },
 "nbformat": 4,
 "nbformat_minor": 5
}
