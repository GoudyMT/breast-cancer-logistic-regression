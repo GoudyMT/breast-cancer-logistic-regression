{
 "cells": [
  {
   "cell_type": "code",
   "execution_count": 1,
   "id": "529ab468-58f6-49c0-a09b-0d95f8389cd6",
   "metadata": {
    "jupyter": {
     "source_hidden": true
    }
   },
   "outputs": [
    {
     "name": "stdout",
     "output_type": "stream",
     "text": [
      "All libraries imported successfully!\n"
     ]
    }
   ],
   "source": [
    "#import necessary librarys to work with\n",
    "import sklearn\n",
    "import pandas as pd\n",
    "import numpy as np\n",
    "import matplotlib.pyplot as plt\n",
    "import seaborn as sns\n",
    "print(\"All libraries imported successfully!\")"
   ]
  },
  {
   "cell_type": "markdown",
   "id": "1f3142be-1e48-4c67-94e6-98ecf0df03c6",
   "metadata": {},
   "source": [
    "# Logistic Regression: Breast Cancer Classification\n",
    "This project uses Scikit-learn's Logistic Regression to classify breast tumors as malignant or benign using the UCI Breast Cancer Wisconsin Dataset."
   ]
  },
  {
   "cell_type": "code",
   "execution_count": null,
   "id": "ac592617-8eae-445e-bfc7-6431551ee7eb",
   "metadata": {},
   "outputs": [],
   "source": []
  }
 ],
 "metadata": {
  "kernelspec": {
   "display_name": "Python 3 (ipykernel)",
   "language": "python",
   "name": "python3"
  },
  "language_info": {
   "codemirror_mode": {
    "name": "ipython",
    "version": 3
   },
   "file_extension": ".py",
   "mimetype": "text/x-python",
   "name": "python",
   "nbconvert_exporter": "python",
   "pygments_lexer": "ipython3",
   "version": "3.12.1"
  }
 },
 "nbformat": 4,
 "nbformat_minor": 5
}
